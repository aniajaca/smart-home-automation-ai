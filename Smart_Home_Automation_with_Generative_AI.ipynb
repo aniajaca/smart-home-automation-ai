{
  "nbformat": 4,
  "nbformat_minor": 0,
  "metadata": {
    "colab": {
      "provenance": [],
      "toc_visible": true
    },
    "kernelspec": {
      "name": "python3",
      "display_name": "Python 3"
    },
    "language_info": {
      "name": "python"
    }
  },
  "cells": [
    {
      "cell_type": "markdown",
      "source": [
        "# Smart Home Controller with Generative AI\n",
        "\n",
        "## Introduction\n",
        "\n",
        "This project simulates a smart home environment where users can control and monitor virtual devices using natural language commands. Instead of relying on buttons or menus, the system allows users to simply type commands like “Turn on the light” or “Set the fan speed to high.” These commands are processed using a Generative AI model (OpenAI GPT), which interprets the intent and translates it into actions.\n",
        "\n",
        "The system includes simulations of three common smart home devices:\n",
        "\n",
        "- Light: Can be turned ON or OFF.\n",
        "- Fan: Can be turned ON or OFF and have its speed set to *low*, *medium*, or *high*.\n",
        "- Thermostat: Allows setting a specific temperature, between 18°C and 30°C.\n",
        "\n",
        "This project demonstrates the potential of AI to create intuitive, conversational interfaces for everyday tasks, while also providing a hands-on example of combining Python logic with language models for real-world applications.\n"
      ],
      "metadata": {
        "id": "SAM0qfvKUeuU"
      }
    },
    {
      "cell_type": "markdown",
      "source": [
        "## Step 1: Simulating Smart Home Devices\n",
        "\n",
        "In this step, we simulate three common smart home devices — a Light, a Fan, and a Thermostat — using Python classes. Each class represents a device with specific functionalities and maintains its own internal state.\n",
        "\n",
        "### Light\n",
        "- Can be turned `ON` or `OFF`.\n",
        "- Includes methods to change its state and retrieve its current status.\n",
        "\n",
        "### Fan\n",
        "- Can be turned `ON` or `OFF`.\n",
        "- Supports speed settings: `low`, `medium`, or `high`.\n",
        "- The fan's speed can be adjusted only to valid values.\n",
        "\n",
        "### Thermostat\n",
        "- Allows setting a temperature between 18°C and 30°C.\n",
        "- Stores the current temperature setting and returns it on request.\n"
      ],
      "metadata": {
        "id": "X7XRSKg4UkfU"
      }
    },
    {
      "cell_type": "code",
      "source": [
        "# Step 1: Simulate Smart Home Devices\n",
        "\n",
        "class Light:\n",
        "    def __init__(self):\n",
        "        # Initial state is OFF\n",
        "        self.state = \"OFF\"\n",
        "\n",
        "    def turn_on(self):\n",
        "        self.state = \"ON\"\n",
        "\n",
        "    def turn_off(self):\n",
        "        self.state = \"OFF\"\n",
        "\n",
        "    def get_status(self):\n",
        "        return f\"The light is {self.state}.\"\n",
        "\n",
        "\n",
        "class Fan:\n",
        "    def __init__(self):\n",
        "        # Initial state is OFF and speed is set to low by default\n",
        "        self.state = \"OFF\"\n",
        "        self.speed = \"low\"\n",
        "\n",
        "    def turn_on(self):\n",
        "        self.state = \"ON\"\n",
        "\n",
        "    def turn_off(self):\n",
        "        self.state = \"OFF\"\n",
        "\n",
        "    def set_speed(self, speed):\n",
        "        # Allow only valid speeds if fan is ON\n",
        "        if speed in [\"low\", \"medium\", \"high\"]:\n",
        "            self.speed = speed\n",
        "\n",
        "    def get_status(self):\n",
        "        return f\"The fan is {self.state} with speed set to {self.speed}.\"\n",
        "\n",
        "\n",
        "class Thermostat:\n",
        "    def __init__(self):\n",
        "        # Default temperature is 22°C\n",
        "        self.temperature = 22\n",
        "\n",
        "    def set_temperature(self, temp):\n",
        "        # Only allow temperature within 18–30°C range\n",
        "        if 18 <= temp <= 30:\n",
        "            self.temperature = temp\n",
        "\n",
        "    def get_status(self):\n",
        "        return f\"The thermostat is set to {self.temperature}°C.\""
      ],
      "metadata": {
        "id": "idrkGORIUj48"
      },
      "execution_count": 14,
      "outputs": []
    },
    {
      "cell_type": "markdown",
      "source": [
        "## Step 2: Command Parsing with Generative AI\n",
        "\n",
        "To make the system understand natural language commands, we use a Generative AI model — specifically, `gpt-3.5-turbo` from OpenAI.\n",
        "\n",
        "Instead of manually coding every possible command, we use AI to interpret user input and convert it into structured, machine-readable JSON. This allows for flexible and natural interaction with the system.\n",
        "\n",
        "### Example\n",
        "\n",
        "- User Input:  \n",
        "  `Turn on the light`\n",
        "\n",
        "- AI Output:\n",
        "  ```json\n",
        "  {\n",
        "    \"device\": \"light\",\n",
        "    \"action\": \"turn_on\"\n",
        "  }\n"
      ],
      "metadata": {
        "id": "xWY3eSwxVAMw"
      }
    },
    {
      "cell_type": "code",
      "source": [
        "import os\n",
        "\n",
        "# Set your API key securely (this will not be stored)\n",
        "os.environ['OPENAI_API_KEY'] = input(\"Paste your OpenAI API key: \")\n"
      ],
      "metadata": {
        "id": "aj5C4-8KbgPL"
      },
      "execution_count": null,
      "outputs": []
    },
    {
      "cell_type": "code",
      "source": [
        "import openai\n",
        "\n",
        "# Use the key from environment\n",
        "openai.api_key = os.getenv(\"OPENAI_API_KEY\")\n"
      ],
      "metadata": {
        "id": "F-aQCRkDbnwV"
      },
      "execution_count": 20,
      "outputs": []
    },
    {
      "cell_type": "code",
      "source": [
        "# Step 2: Command Parsing with OpenAI GPT\n",
        "\n",
        "def parse_command(user_input):\n",
        "    \"\"\"\n",
        "    Uses GPT to parse a natural language command and return a structured response.\n",
        "    The expected format is a JSON object with fields:\n",
        "    - device: \"light\", \"fan\", or \"thermostat\"\n",
        "    - action: e.g., \"turn_on\", \"turn_off\", \"set_speed\", \"set_temperature\", \"get_status\"\n",
        "    - value: optional (e.g., speed or temperature)\n",
        "    \"\"\"\n",
        "    prompt = f\"\"\"\n",
        "You are a smart home assistant. Interpret the user's command and convert it to JSON format like:\n",
        "{{\n",
        "    \"device\": \"light/fan/thermostat\",\n",
        "    \"action\": \"turn_on/turn_off/set_speed/set_temperature/get_status\",\n",
        "    \"value\": \"optional\"\n",
        "}}\n",
        "\n",
        "Command: \"{user_input}\"\n",
        "Response:\n",
        "\"\"\"\n",
        "    response = openai.ChatCompletion.create(\n",
        "        model=\"gpt-3.5-turbo\",\n",
        "        messages=[{\"role\": \"user\", \"content\": prompt}],\n",
        "        temperature=0\n",
        "    )\n",
        "\n",
        "    # Return only the content of the model's reply (the JSON string)\n",
        "    return response['choices'][0]['message']['content']"
      ],
      "metadata": {
        "id": "VW7WFYpdVEUI"
      },
      "execution_count": 21,
      "outputs": []
    },
    {
      "cell_type": "markdown",
      "source": [
        "## Step 3: Command Execution and Feedback\n",
        "\n",
        "In this step, we take the structured JSON output from the AI model and use it to control the corresponding smart home devices. The function `execute_command()` is responsible for this logic.\n",
        "\n",
        "###How It Works\n",
        "\n",
        "1. The AI returns a command in JSON format, like:\n",
        "   ```json\n",
        "   {\n",
        "     \"device\": \"fan\",\n",
        "     \"action\": \"set_speed\",\n",
        "     \"value\": \"high\"\n",
        "   }\n"
      ],
      "metadata": {
        "id": "-yVWFQFfczAu"
      }
    },
    {
      "cell_type": "code",
      "source": [
        "import json\n",
        "\n",
        "def execute_command(devices, parsed_json):\n",
        "    \"\"\"\n",
        "    Executes a parsed command on the smart devices.\n",
        "\n",
        "    Parameters:\n",
        "    - devices: dict of device objects (light, fan, thermostat)\n",
        "    - parsed_json: JSON string or dictionary from parse_command()\n",
        "\n",
        "    Returns:\n",
        "    - A message to display to the user\n",
        "    \"\"\"\n",
        "    try:\n",
        "        # Convert string to dictionary if needed\n",
        "        if isinstance(parsed_json, str):\n",
        "            data = json.loads(parsed_json)\n",
        "        else:\n",
        "            data = parsed_json\n",
        "\n",
        "        device = data.get(\"device\")\n",
        "        action = data.get(\"action\")\n",
        "        value = data.get(\"value\", None)\n",
        "\n",
        "        if device == \"light\":\n",
        "            if action == \"turn_on\":\n",
        "                devices[\"light\"].turn_on()\n",
        "                return \"The light is now ON.\"\n",
        "            elif action == \"turn_off\":\n",
        "                devices[\"light\"].turn_off()\n",
        "                return \"The light is now OFF.\"\n",
        "            elif action == \"get_status\":\n",
        "                return devices[\"light\"].get_status()\n",
        "\n",
        "        elif device == \"fan\":\n",
        "            if action == \"turn_on\":\n",
        "                devices[\"fan\"].turn_on()\n",
        "                return \"The fan is now ON.\"\n",
        "            elif action == \"turn_off\":\n",
        "                devices[\"fan\"].turn_off()\n",
        "                return \"The fan is now OFF.\"\n",
        "            elif action == \"set_speed\":\n",
        "                devices[\"fan\"].set_speed(value)\n",
        "                return f\"The fan speed is set to {value}.\"\n",
        "            elif action == \"get_status\":\n",
        "                return devices[\"fan\"].get_status()\n",
        "\n",
        "        elif device == \"thermostat\":\n",
        "            if action == \"set_temperature\":\n",
        "                devices[\"thermostat\"].set_temperature(int(value))\n",
        "                return f\"The thermostat is set to {value}°C.\"\n",
        "            elif action == \"get_status\":\n",
        "                return devices[\"thermostat\"].get_status()\n",
        "\n",
        "        elif device == \"all\" and action == \"get_status\":\n",
        "            return (\n",
        "                devices[\"light\"].get_status() + \" \" +\n",
        "                devices[\"fan\"].get_status() + \" \" +\n",
        "                devices[\"thermostat\"].get_status()\n",
        "            )\n",
        "\n",
        "\n",
        "        return \"Command not recognized.\"\n",
        "\n",
        "    except Exception as e:\n",
        "        return f\"Error: {str(e)}\""
      ],
      "metadata": {
        "id": "IHj79yEncscc"
      },
      "execution_count": 22,
      "outputs": []
    },
    {
      "cell_type": "markdown",
      "source": [
        "> Includes error handling to deal with unexpected input or invalid commands.\n",
        "\n",
        "### Benefits\n",
        "\n",
        "- Modular: Any future devices or actions can be added easily.\n",
        "- Flexible: Supports both string and dictionary JSON input.\n",
        "- Safe: Gracefully handles errors and unsupported actions.\n",
        "\n",
        "This layer connects the language-understanding power of the AI with the device logic coded in Python, enabling a seamless natural language interface for controlling smart devices."
      ],
      "metadata": {
        "id": "ANktZ1Y4dMhM"
      }
    },
    {
      "cell_type": "markdown",
      "source": [
        "## Step 4: Command-Line Interface (CLI)\n",
        "\n",
        "In this final step, we create a simple and intuitive command-line interface (CLI) that allows users to interact with the smart home system in real time using natural language commands.\n",
        "\n",
        "### How It Works\n",
        "\n",
        "1. The system initializes the three smart devices: `Light`, `Fan`, and `Thermostat`.\n",
        "2. The user types a natural language command (e.g., \"Turn on the fan\").\n",
        "3. The command is passed to the `parse_command()` function, which uses GPT to return a structured JSON.\n",
        "4. The `execute_command()` function interprets the JSON and performs the correct action.\n",
        "5. The system responds with a user-friendly message showing the result of the command.\n",
        "\n",
        "This loop continues until the user types `exit`."
      ],
      "metadata": {
        "id": "dKpsbdyCd4Do"
      }
    },
    {
      "cell_type": "code",
      "source": [
        "def main():\n",
        "    # Initialize the simulated devices\n",
        "    devices = {\n",
        "        \"light\": Light(),\n",
        "        \"fan\": Fan(),\n",
        "        \"thermostat\": Thermostat()\n",
        "    }\n",
        "\n",
        "    print(\"Welcome to your Smart Home!\")\n",
        "    print(\"Type a command (or type 'exit' to quit)\\n\")\n",
        "\n",
        "    while True:\n",
        "        # Get input from the user\n",
        "        user_input = input(\"You: \")\n",
        "\n",
        "        if user_input.lower() == \"exit\":\n",
        "            print(\"Exiting Smart Home.\")\n",
        "            break\n",
        "\n",
        "        # Parse the command using GPT\n",
        "        parsed = parse_command(user_input)\n",
        "        print(\"AI Parsed:\", parsed)\n",
        "\n",
        "        # Execute the command on the device\n",
        "        feedback = execute_command(devices, parsed)\n",
        "        print(\"Smart Home:\", feedback)"
      ],
      "metadata": {
        "id": "gzKY5mrhdwRO"
      },
      "execution_count": 23,
      "outputs": []
    },
    {
      "cell_type": "markdown",
      "source": [
        "- The command is passed to the AI parser (`parse_command()`), which\n",
        "converts it to structured JSON.\n",
        "- The JSON is processed by the execution logic (`execute_command()`), which performs the corresponding action on the device.\n",
        "- A human-readable response is printed, such as:"
      ],
      "metadata": {
        "id": "VfLuKBwYd8rq"
      }
    },
    {
      "cell_type": "markdown",
      "source": [
        "### Example Interaction\n",
        "\n",
        "- **Smart Home**: Welcome to your Smart Home! Type a command (or type 'exit' to quit)\n",
        "\n",
        "- **You**: Set the fan speed to high\n",
        "\n",
        "- **AI Parsed**: {\"device\": \"fan\", \"action\": \"set_speed\", \"value\": \"high\"}\n",
        "\n",
        "- **Smart Home**: The fan speed is set to high.\n",
        "\n",
        "- **You**: What is the temperature?\n",
        "\n",
        "- **AI Parsed**: {\"device\": \"thermostat\", \"action\": \"get_status\"}\n",
        "\n",
        "- **Smart Home**: The thermostat is set to 22°C."
      ],
      "metadata": {
        "id": "qOqaCciJeCZT"
      }
    }
  ]
}